{
  "nbformat": 4,
  "nbformat_minor": 0,
  "metadata": {
    "kernelspec": {
      "display_name": "Python 3",
      "language": "python",
      "name": "python3"
    },
    "language_info": {
      "codemirror_mode": {
        "name": "ipython",
        "version": 3
      },
      "file_extension": ".py",
      "mimetype": "text/x-python",
      "name": "python",
      "nbconvert_exporter": "python",
      "pygments_lexer": "ipython3",
      "version": "3.7.3"
    },
    "toc": {
      "base_numbering": 1,
      "nav_menu": {},
      "number_sections": true,
      "sideBar": true,
      "skip_h1_title": false,
      "title_cell": "Table of Contents",
      "title_sidebar": "Contents",
      "toc_cell": false,
      "toc_position": {},
      "toc_section_display": true,
      "toc_window_display": false
    },
    "colab": {
      "name": "Week2_Python_Homework.ipynb",
      "provenance": [],
      "collapsed_sections": [
        "ZrQ80QRA-zZB",
        "jUoo1AIt-zZB",
        "XyxqeqhS-zZD",
        "tZ5mYGLe-zZD",
        "ZegKPels-zZG",
        "S9oRZXQf-zZH",
        "lgf5Ijgt-zZN",
        "Nga6HiaX-zZQ",
        "SwEM4zAR-zZR",
        "GgCBlBec-zZS"
      ],
      "include_colab_link": true
    }
  },
  "cells": [
    {
      "cell_type": "markdown",
      "metadata": {
        "id": "view-in-github",
        "colab_type": "text"
      },
      "source": [
        "<a href=\"https://colab.research.google.com/github/daniellarkincbsinteractive/daniellarkincbsinteractive/blob/main/Week2_Python_Homework.ipynb\" target=\"_parent\"><img src=\"https://colab.research.google.com/assets/colab-badge.svg\" alt=\"Open In Colab\"/></a>"
      ]
    },
    {
      "cell_type": "markdown",
      "metadata": {
        "id": "69Gr5kFg-zS1"
      },
      "source": [
        "## Week2 Python Programming"
      ]
    },
    {
      "cell_type": "markdown",
      "metadata": {
        "id": "E-xR71ld-zTG"
      },
      "source": [
        "In week2, we've covered:\n",
        "* Creating **variables** \n",
        "* Different **data types**:\n",
        "    * int\n",
        "    * float\n",
        "    * boolean\n",
        "    * string\n",
        "* Import **standard library**:\n",
        "    * math\n",
        "    \n",
        "    \n",
        "* **Data structures**:\n",
        "    * List\n",
        "    * Tuples\n",
        "    * Dictionary\n",
        "* **Function**:\n",
        "    * Define function without parameter\n",
        "        * **def** func():\n",
        "    * Define function with parameter\n",
        "        * **def** func(param):\n",
        "* **Control flow**:\n",
        "    * if, elif, else\n",
        "    * for\n",
        "    * while\n",
        "* **DataFrame**:\n",
        "    * Exploring a dataset"
      ]
    },
    {
      "cell_type": "markdown",
      "metadata": {
        "id": "kkjiYAId-zT2"
      },
      "source": [
        "The best way to consolidate the knowledge in your mind is by practicing.<br>Please complete the part marked with <span style=\"color:green\">**# TODO**</span>.\n",
        "\n",
        "[Google](https://google.com) and [Python Documentation](https://docs.python.org/3/contents.html) are your good friends if you have any python questions."
      ]
    },
    {
      "cell_type": "markdown",
      "metadata": {
        "id": "T7HHun3k-zUV"
      },
      "source": [
        "## Variables and types"
      ]
    },
    {
      "cell_type": "markdown",
      "metadata": {
        "id": "a8a6lSC--zUp"
      },
      "source": [
        "### Symbol names"
      ]
    },
    {
      "cell_type": "markdown",
      "metadata": {
        "id": "94ChhL2q-zUw"
      },
      "source": [
        "Variable names in Python can contain alphanumerical characters `a-z`, `A-Z`, `0-9` and some special characters such as `_`. Normal variable names must start with a letter. \n",
        "\n",
        "By convention, variable names start with a lower-case letter, and Class names start with a capital letter. \n",
        "\n",
        "In addition, there are a number of Python keywords that cannot be used as variable names. These keywords are:\n",
        "\n",
        "    and, as, assert, break, class, continue, def, del, elif, else, except, \n",
        "    exec, finally, for, from, global, if, import, in, is, lambda, not, or,\n",
        "    pass, print, raise, return, try, while, with, yield"
      ]
    },
    {
      "cell_type": "markdown",
      "metadata": {
        "id": "wqoa-dz6-zVK"
      },
      "source": [
        "## Assignment"
      ]
    },
    {
      "cell_type": "markdown",
      "metadata": {
        "id": "02vw--b2-zVt"
      },
      "source": [
        "\n",
        "The assignment operator in Python is `=`. Python is a dynamically typed language, so we do not need to specify the type of a variable when we create one."
      ]
    },
    {
      "cell_type": "markdown",
      "metadata": {
        "id": "JLn5zfOA-zWM"
      },
      "source": [
        "Assign an `int` to a variable with name `x` and print its type."
      ]
    },
    {
      "cell_type": "code",
      "metadata": {
        "colab": {
          "base_uri": "https://localhost:8080/"
        },
        "id": "RoYx5zlb-zXB",
        "outputId": "ab3b2c84-56f8-4124-f852-269dab73e7d3"
      },
      "source": [
        "# x = int(2)\n",
        "x = 2\n",
        "print (x)\n"
      ],
      "execution_count": 4,
      "outputs": [
        {
          "output_type": "stream",
          "text": [
            "2\n"
          ],
          "name": "stdout"
        }
      ]
    },
    {
      "cell_type": "markdown",
      "metadata": {
        "id": "dMjMClA5-zXN"
      },
      "source": [
        "Assign a new value with `string` type to the same variable `x` and print its type."
      ]
    },
    {
      "cell_type": "code",
      "metadata": {
        "colab": {
          "base_uri": "https://localhost:8080/"
        },
        "id": "_xnrxELk-zXO",
        "outputId": "f8b38a73-067a-460c-b02b-3be034182965"
      },
      "source": [
        "x ='hello'\n",
        "print (x)\n",
        "\n",
        "\n",
        "\n"
      ],
      "execution_count": 5,
      "outputs": [
        {
          "output_type": "stream",
          "text": [
            "hello\n"
          ],
          "name": "stdout"
        }
      ]
    },
    {
      "cell_type": "markdown",
      "metadata": {
        "id": "r6yLvRqX-zXj"
      },
      "source": [
        "Print the value of a variable that has not been defined, see what error do you get:"
      ]
    },
    {
      "cell_type": "code",
      "metadata": {
        "colab": {
          "base_uri": "https://localhost:8080/"
        },
        "id": "5WBIGegR-zXw",
        "outputId": "f232c23a-3f37-4479-894c-1f5f03eb0491"
      },
      "source": [
        "x = ''\n",
        "print (x)\n"
      ],
      "execution_count": 11,
      "outputs": [
        {
          "output_type": "stream",
          "text": [
            "\n"
          ],
          "name": "stdout"
        }
      ]
    },
    {
      "cell_type": "markdown",
      "metadata": {
        "id": "o0fp4Xi6-zX3"
      },
      "source": [
        "## Operators and comparisons"
      ]
    },
    {
      "cell_type": "markdown",
      "metadata": {
        "id": "58iDVbk9-zX4"
      },
      "source": [
        "Most operators and comparisons in Python work as one would expect:\n",
        "\n",
        "* Arithmetic operators `+`, `-`, `*`, `/`, `//` (integer division), '**' power"
      ]
    },
    {
      "cell_type": "markdown",
      "metadata": {
        "id": "pOQlaeMQ-zX5"
      },
      "source": [
        "Print the sum, difference, multiplication, and division between `1` and `2`."
      ]
    },
    {
      "cell_type": "code",
      "metadata": {
        "colab": {
          "base_uri": "https://localhost:8080/"
        },
        "id": "ZpyrVVdj-zX6",
        "outputId": "4742ccad-6d02-44eb-fcdd-df8c416b87b0"
      },
      "source": [
        "# first number\n",
        "num1 = 1\n",
        "# second number\n",
        "num2 = 2\n",
        "\n",
        "# Add two numbers\n",
        "sum = num1 + num2\n",
        "\n",
        "# Display the sum\n",
        "print('The sum of the the two numbers =', sum)\n",
        "\n",
        "# num1 is greater than num2\n",
        "if num1 > num2:\n",
        "    diff = num1 - num2\n",
        "# num1 is less than num2\n",
        "else:\n",
        "    diff = num2 - num1\n",
        "\n",
        "# print difference value\n",
        "print('The difference between the two numbers =', diff)\n",
        "\n",
        "mul = num1 * num2;\n",
        "print(\"Multiplication of the two numbers =\",mul)\n",
        "\n",
        "result = num1/num2\n",
        "print(\"Division of the two numbers =\",result)"
      ],
      "execution_count": 43,
      "outputs": [
        {
          "output_type": "stream",
          "text": [
            "The sum of the the two numbers = 3\n",
            "The difference between the two numbers = 1\n",
            "Multiplication of the two numbers = 2\n",
            "Division of the two numbers = 0.5\n"
          ],
          "name": "stdout"
        }
      ]
    },
    {
      "cell_type": "markdown",
      "metadata": {
        "id": "rjvSKnAd-zX9"
      },
      "source": [
        "Carry out Integer division of two float numbers."
      ]
    },
    {
      "cell_type": "code",
      "metadata": {
        "colab": {
          "base_uri": "https://localhost:8080/"
        },
        "id": "mQrsc44H-zX-",
        "outputId": "c562aa94-0b66-4708-8843-cd1372355e39"
      },
      "source": [
        "a, b = 8, 2\n",
        "result = a//b\n",
        "print(result)\n"
      ],
      "execution_count": 3,
      "outputs": [
        {
          "output_type": "stream",
          "text": [
            "4\n"
          ],
          "name": "stdout"
        }
      ]
    },
    {
      "cell_type": "markdown",
      "metadata": {
        "id": "lIAMW6JQ-zYA"
      },
      "source": [
        "What is the value of `2` Power `15`?"
      ]
    },
    {
      "cell_type": "code",
      "metadata": {
        "colab": {
          "base_uri": "https://localhost:8080/"
        },
        "id": "5GclBKW4-zYH",
        "outputId": "78d7e6dc-2e4c-4318-a860-399d15187373"
      },
      "source": [
        "n = 2\n",
        "exponent = 15\n",
        "\n",
        "while exponent < 15+1:\n",
        "  n = n ** exponent\n",
        "  exponent = exponent + 1\n",
        "  print (n)\n"
      ],
      "execution_count": 1,
      "outputs": [
        {
          "output_type": "stream",
          "text": [
            "32768\n"
          ],
          "name": "stdout"
        }
      ]
    },
    {
      "cell_type": "markdown",
      "metadata": {
        "id": "4SMYWZUW-zYN"
      },
      "source": [
        "Are the types of `1+2` and `1.0+2` the same?"
      ]
    },
    {
      "cell_type": "code",
      "metadata": {
        "colab": {
          "base_uri": "https://localhost:8080/"
        },
        "id": "89q3oqMI-zYQ",
        "outputId": "2e5c3552-da6f-487c-e955-06b3d7ba8ebd"
      },
      "source": [
        "def int_check(valuechk, valuecmp):\n",
        "        if valuechk == valuecmp and type(valuechk) == int:\n",
        "                return True\n",
        "        else:\n",
        "                return False\n",
        "\n",
        "int_check(1, 2)\n",
        "True\n",
        "int_check(1.0, 2)\n",
        "False\n"
      ],
      "execution_count": 2,
      "outputs": [
        {
          "output_type": "execute_result",
          "data": {
            "text/plain": [
              "False"
            ]
          },
          "metadata": {
            "tags": []
          },
          "execution_count": 2
        }
      ]
    },
    {
      "cell_type": "markdown",
      "metadata": {
        "id": "uZRkjXz0-zYQ"
      },
      "source": [
        "* The boolean operators are spelled out as the words `and`, `not`, `or`.  "
      ]
    },
    {
      "cell_type": "markdown",
      "metadata": {
        "id": "MKJpFXvd-zYQ"
      },
      "source": [
        "* Comparison operators `>`, `<`, `>=` (greater or equal), `<=` (less or equal), `==` equality, `is` identical."
      ]
    },
    {
      "cell_type": "markdown",
      "metadata": {
        "id": "WRTGwoxQ-zYS"
      },
      "source": [
        "Compare two boolean `True` and `False`"
      ]
    },
    {
      "cell_type": "code",
      "metadata": {
        "colab": {
          "base_uri": "https://localhost:8080/"
        },
        "id": "JikqkZw1-zYT",
        "outputId": "5ec51df2-60d0-4741-c32a-87effff9012e"
      },
      "source": [
        ">>> (True or False) is True\n",
        "True\n",
        ">>> (True or False) == True\n",
        "True\n"
      ],
      "execution_count": 4,
      "outputs": [
        {
          "output_type": "execute_result",
          "data": {
            "text/plain": [
              "True"
            ]
          },
          "metadata": {
            "tags": []
          },
          "execution_count": 4
        }
      ]
    },
    {
      "cell_type": "markdown",
      "metadata": {
        "id": "N_sptUuM-zYW"
      },
      "source": [
        "Use `False` to get `True`"
      ]
    },
    {
      "cell_type": "code",
      "metadata": {
        "colab": {
          "base_uri": "https://localhost:8080/"
        },
        "id": "LPT_FtIZ-zYY",
        "outputId": "5060594e-25f5-48d5-f66d-63e1e84b8ae0"
      },
      "source": [
        "(True or False) is False\n",
        "True\n",
        "(True or False) == False\n",
        "True\n"
      ],
      "execution_count": 5,
      "outputs": [
        {
          "output_type": "execute_result",
          "data": {
            "text/plain": [
              "True"
            ]
          },
          "metadata": {
            "tags": []
          },
          "execution_count": 5
        }
      ]
    },
    {
      "cell_type": "markdown",
      "metadata": {
        "id": "FkiLlM5u-zYa"
      },
      "source": [
        "Include both `False` and `True` in your code to get `True`"
      ]
    },
    {
      "cell_type": "code",
      "metadata": {
        "colab": {
          "base_uri": "https://localhost:8080/"
        },
        "id": "gYdv2a0r-zYa",
        "outputId": "1f1c893e-a47f-4f9f-b54a-8935b92cd842"
      },
      "source": [
        "(True or False) is not False\n",
        "True\n",
        "(True or False) == True\n",
        "True\n"
      ],
      "execution_count": 26,
      "outputs": [
        {
          "output_type": "execute_result",
          "data": {
            "text/plain": [
              "True"
            ]
          },
          "metadata": {
            "tags": []
          },
          "execution_count": 26
        }
      ]
    },
    {
      "cell_type": "markdown",
      "metadata": {
        "id": "554ds2g2-zYg"
      },
      "source": [
        "Use two different ways: `==` and `is` to check if `l1` and `l2` is identical."
      ]
    },
    {
      "cell_type": "code",
      "metadata": {
        "id": "1pDOaInO-zYl"
      },
      "source": [
        "# TODO\n",
        "l1 = [1, 2]\n",
        "l2 = [1, 2.0]\n"
      ],
      "execution_count": null,
      "outputs": []
    },
    {
      "cell_type": "markdown",
      "metadata": {
        "id": "vtxrs2my-zYl"
      },
      "source": [
        "## Strings"
      ]
    },
    {
      "cell_type": "markdown",
      "metadata": {
        "id": "pcNF6O4s-zYr"
      },
      "source": [
        "Strings are the variables type that is used for storing text messages."
      ]
    },
    {
      "cell_type": "markdown",
      "metadata": {
        "id": "2v2BXayE-zYr"
      },
      "source": [
        "Create three string variables, and use one `print` to display all three variables."
      ]
    },
    {
      "cell_type": "code",
      "metadata": {
        "colab": {
          "base_uri": "https://localhost:8080/"
        },
        "id": "GM4qHqDb-zYs",
        "outputId": "51ee6df5-1d6d-4478-e6f5-34abe7c49a6d"
      },
      "source": [
        "mystring1 = 'Good morning. ';\n",
        "mystring2 = 'How are you? ';\n",
        "mystring3 = 'Hope you are well. ';\n",
        "print(mystring1+mystring2+mystring3);\n"
      ],
      "execution_count": 31,
      "outputs": [
        {
          "output_type": "stream",
          "text": [
            "Good morning. How are you? Hope you are well. \n"
          ],
          "name": "stdout"
        }
      ]
    },
    {
      "cell_type": "markdown",
      "metadata": {
        "id": "_dev2ocA-zYw"
      },
      "source": [
        "Check the length of \"Hello world!\"."
      ]
    },
    {
      "cell_type": "code",
      "metadata": {
        "colab": {
          "base_uri": "https://localhost:8080/"
        },
        "id": "yAXigK5Q-zYy",
        "outputId": "c812914f-98f1-4583-f851-c19d2f0ac089"
      },
      "source": [
        "a = \"Hello, World!\"\n",
        "print(len(a))\n"
      ],
      "execution_count": 32,
      "outputs": [
        {
          "output_type": "stream",
          "text": [
            "13\n"
          ],
          "name": "stdout"
        }
      ]
    },
    {
      "cell_type": "markdown",
      "metadata": {
        "id": "iVpiJQYO-zYz"
      },
      "source": [
        "Get the index `0`character in a string."
      ]
    },
    {
      "cell_type": "code",
      "metadata": {
        "colab": {
          "base_uri": "https://localhost:8080/",
          "height": 35
        },
        "id": "lPT-u7qN-zY1",
        "outputId": "18ff5e94-3996-4c9e-f8f8-a0c0e6242543"
      },
      "source": [
        "s = 'CNET'\n",
        "\n",
        "s[0]\n"
      ],
      "execution_count": 33,
      "outputs": [
        {
          "output_type": "execute_result",
          "data": {
            "application/vnd.google.colaboratory.intrinsic+json": {
              "type": "string"
            },
            "text/plain": [
              "'C'"
            ]
          },
          "metadata": {
            "tags": []
          },
          "execution_count": 33
        }
      ]
    },
    {
      "cell_type": "markdown",
      "metadata": {
        "id": "WCaoFkAZ-zY1"
      },
      "source": [
        "Get the first 3 characters in a string."
      ]
    },
    {
      "cell_type": "code",
      "metadata": {
        "colab": {
          "base_uri": "https://localhost:8080/",
          "height": 35
        },
        "id": "FATZpgMj-zY1",
        "outputId": "047f4dc3-4205-4338-cd5f-d868dedb7eba"
      },
      "source": [
        "s = 'CNET'\n",
        "\n",
        "s[0:3]\n"
      ],
      "execution_count": 36,
      "outputs": [
        {
          "output_type": "execute_result",
          "data": {
            "application/vnd.google.colaboratory.intrinsic+json": {
              "type": "string"
            },
            "text/plain": [
              "'CNE'"
            ]
          },
          "metadata": {
            "tags": []
          },
          "execution_count": 36
        }
      ]
    },
    {
      "cell_type": "markdown",
      "metadata": {
        "id": "HX8rupVM-zY1"
      },
      "source": [
        "Use a start index and a stop index to get the fifth character in a string."
      ]
    },
    {
      "cell_type": "code",
      "metadata": {
        "colab": {
          "base_uri": "https://localhost:8080/",
          "height": 35
        },
        "id": "-sTj8lmX-zY1",
        "outputId": "b9a43959-f870-4a4c-a397-dd3e0693ff79"
      },
      "source": [
        "# TODO\n",
        "s = \"Red Ventures\"\n",
        "s[5]\n"
      ],
      "execution_count": 39,
      "outputs": [
        {
          "output_type": "execute_result",
          "data": {
            "application/vnd.google.colaboratory.intrinsic+json": {
              "type": "string"
            },
            "text/plain": [
              "'e'"
            ]
          },
          "metadata": {
            "tags": []
          },
          "execution_count": 39
        }
      ]
    },
    {
      "cell_type": "markdown",
      "metadata": {
        "id": "cc4AWKUY-zY1"
      },
      "source": [
        "Get the last character in a string."
      ]
    },
    {
      "cell_type": "code",
      "metadata": {
        "colab": {
          "base_uri": "https://localhost:8080/",
          "height": 35
        },
        "id": "znGUVdp9-zY1",
        "outputId": "225dd3ec-1445-472d-e893-4bc196ec4fbf"
      },
      "source": [
        "# TODO\n",
        "s = \"Charlotte\"\n",
        "s[-1]\n"
      ],
      "execution_count": 40,
      "outputs": [
        {
          "output_type": "execute_result",
          "data": {
            "application/vnd.google.colaboratory.intrinsic+json": {
              "type": "string"
            },
            "text/plain": [
              "'e'"
            ]
          },
          "metadata": {
            "tags": []
          },
          "execution_count": 40
        }
      ]
    },
    {
      "cell_type": "markdown",
      "metadata": {
        "id": "pJP5RNS_-zY3"
      },
      "source": [
        "#### Escape characters\n",
        "In Python strings, the backslash \"\\\\\" is a special character, also called the **\"escape\"** character. It is used in representing certain whitespace characters: \"\\t\" is a tab, \"\\n\" is a newline, and \"\\r\" is a carriage return. Conversely, prefixing a special character with \"\\\" turns it into an ordinary character."
      ]
    },
    {
      "cell_type": "markdown",
      "metadata": {
        "id": "TW4SJm4F-zY3"
      },
      "source": [
        "Print out the following strings:\n",
        "<pre>\n",
        "'    Everything is written in pencil.'\n",
        "\n",
        "'Everything is written\n",
        " in pencil.'\n",
        " \n",
        "'Everything \\ is written \\ in pencil.'\n",
        "\n",
        "'Red Ventures brands, just list a few:\n",
        "   * Bankrate\n",
        "   * Reviews.com\n",
        "   * the Points Guy\n",
        "   * creditcards.com'\n",
        "</pre>"
      ]
    },
    {
      "cell_type": "code",
      "metadata": {
        "colab": {
          "base_uri": "https://localhost:8080/"
        },
        "id": "Aag3BuhN-zY3",
        "outputId": "d1191d8e-1953-464a-8c66-ce4951302cd8"
      },
      "source": [
        "a = '\\tEverything is written in pencil.\\n'\n",
        "print(a)\n",
        "b = 'Everything is written\\nin pencil.\\n'\n",
        "print(b)\n",
        "c = 'Everything\\t is written\\t in pencil.\\n'\n",
        "print(c)\n",
        "d = 'Red Ventures brands, just list a few: \\n * Bankrate \\n * Reviews.com \\n * the Points Guy \\n * creditcards.com'\n",
        "print(d)\n"
      ],
      "execution_count": 12,
      "outputs": [
        {
          "output_type": "stream",
          "text": [
            "\tEverything is written in pencil.\n",
            "\n",
            "Everything is written\n",
            "in pencil.\n",
            "\n",
            "Everything\t is written\t in pencil.\n",
            "\n",
            "Red Ventures brands, just list a few: \n",
            " * Bankrate \n",
            " * Reviews.com \n",
            " * the Points Guy \n",
            " * creditcards.com\n"
          ],
          "name": "stdout"
        }
      ]
    },
    {
      "cell_type": "markdown",
      "metadata": {
        "id": "W8mdS0jr-zY3"
      },
      "source": [
        "#### String methods\n",
        "Here are some of the most common string methods. A method is like a function, but it runs \"on\" an object. If the variable s is a string, then the code s.lower() runs the lower() method on that string object and returns the result (this idea of a method running on an object is one of the basic ideas that make up Object Oriented Programming, OOP). Here are some of the most common string methods:\n",
        "\n",
        "lower(), upper(), strip(), isdigit(), startswith(), endswith(), find(), replace(), split(), join()\n",
        "\n",
        "[Documentation](https://docs.python.org/3/library/stdtypes.html#string-methods)"
      ]
    },
    {
      "cell_type": "markdown",
      "metadata": {
        "id": "dztVj7LE-zY4"
      },
      "source": [
        "Convert all letters to lower cases."
      ]
    },
    {
      "cell_type": "code",
      "metadata": {
        "colab": {
          "base_uri": "https://localhost:8080/"
        },
        "id": "cXHKNqhR-zY5",
        "outputId": "67475e72-b6ac-4ae5-f333-4807d538a708"
      },
      "source": [
        "s = 'RED FISH'\n",
        "print(s.lower())"
      ],
      "execution_count": 16,
      "outputs": [
        {
          "output_type": "stream",
          "text": [
            "red fish\n"
          ],
          "name": "stdout"
        }
      ]
    },
    {
      "cell_type": "markdown",
      "metadata": {
        "id": "iv-A2g7j-zY5"
      },
      "source": [
        "Check if string starts with `r`"
      ]
    },
    {
      "cell_type": "code",
      "metadata": {
        "colab": {
          "base_uri": "https://localhost:8080/"
        },
        "id": "l0a8aZGG-zY5",
        "outputId": "cb59aafd-8998-497a-ff2b-529052d36664"
      },
      "source": [
        "# TODO\n",
        "s = 'Run Up Escalators'\n",
        "s.startswith('R')\n"
      ],
      "execution_count": 20,
      "outputs": [
        {
          "output_type": "execute_result",
          "data": {
            "text/plain": [
              "True"
            ]
          },
          "metadata": {
            "tags": []
          },
          "execution_count": 20
        }
      ]
    },
    {
      "cell_type": "markdown",
      "metadata": {
        "id": "U4ofS96H-zY6"
      },
      "source": [
        "Find the index of the single quote."
      ]
    },
    {
      "cell_type": "code",
      "metadata": {
        "colab": {
          "base_uri": "https://localhost:8080/"
        },
        "id": "Lqred1mz-zY6",
        "outputId": "4a3450c3-89ae-4c93-ad32-6025d6de8b60"
      },
      "source": [
        "# TODO\n",
        "s = \"You don't have to lie.\"\n",
        "s.find('\\'')\n"
      ],
      "execution_count": 25,
      "outputs": [
        {
          "output_type": "execute_result",
          "data": {
            "text/plain": [
              "7"
            ]
          },
          "metadata": {
            "tags": []
          },
          "execution_count": 25
        }
      ]
    },
    {
      "cell_type": "markdown",
      "metadata": {
        "id": "m_V7YeeQ-zY6"
      },
      "source": [
        "## Type casting\n",
        "The process of converting the value of one data type to another is called type casting or type conversion."
      ]
    },
    {
      "cell_type": "markdown",
      "metadata": {
        "id": "csKAtWoY-zY6"
      },
      "source": [
        "Cast variable `z` to `int` and print its type."
      ]
    },
    {
      "cell_type": "code",
      "metadata": {
        "colab": {
          "base_uri": "https://localhost:8080/"
        },
        "id": "PQMuBrE7-zY7",
        "outputId": "cfe4c670-9b29-4c8b-f28e-9009b4e37f1c"
      },
      "source": [
        "# TODO\n",
        "z = int(2.8)\n",
        "print(type(z))"
      ],
      "execution_count": 28,
      "outputs": [
        {
          "output_type": "stream",
          "text": [
            "<class 'int'>\n"
          ],
          "name": "stdout"
        }
      ]
    },
    {
      "cell_type": "markdown",
      "metadata": {
        "id": "CNteO4iu-zY8"
      },
      "source": [
        "Are the types of 1 + 2 and 1.0 + 2 the same?"
      ]
    },
    {
      "cell_type": "code",
      "metadata": {
        "id": "sXtkY9qw-zY8"
      },
      "source": [
        "# TODO\n"
      ],
      "execution_count": null,
      "outputs": []
    },
    {
      "cell_type": "markdown",
      "metadata": {
        "id": "Gyr6bnVW-zY9"
      },
      "source": [
        "Add num_int and num_str, you should provide two outputs. One is a string and the other is an int."
      ]
    },
    {
      "cell_type": "code",
      "metadata": {
        "colab": {
          "base_uri": "https://localhost:8080/"
        },
        "id": "3ahI0Kbz-zY9",
        "outputId": "052bee8c-73d8-4b01-fe5d-d3cd70827d70"
      },
      "source": [
        "# TODO\n",
        "num_int = 123\n",
        "num_str = \"456\"\n",
        "print(\"Data type of num_int:\",type(num_int))\n",
        "print(\"Data type of num_str before Type Casting:\",type(num_str))\n",
        "\n",
        "num_str = int(num_str)\n",
        "print(\"Data type of num_str after Type Casting:\",type(num_str))\n",
        "\n",
        "num_sum = num_int + num_str\n",
        "\n",
        "print(\"Sum of num_int and num_str:\",num_sum)\n",
        "print(\"Data type of the sum:\",type(num_sum))\n"
      ],
      "execution_count": 34,
      "outputs": [
        {
          "output_type": "stream",
          "text": [
            "Data type of num_int: <class 'int'>\n",
            "Data type of num_str before Type Casting: <class 'str'>\n",
            "Data type of num_str after Type Casting: <class 'int'>\n",
            "Sum of num_int and num_str: 579\n",
            "Data type of the sum: <class 'int'>\n"
          ],
          "name": "stdout"
        }
      ]
    },
    {
      "cell_type": "markdown",
      "metadata": {
        "id": "OTlgNHDz-zY-"
      },
      "source": [
        "What happens if you cast `-1` to a boolean?"
      ]
    },
    {
      "cell_type": "code",
      "metadata": {
        "id": "weNvHfii-zY-"
      },
      "source": [
        "# TODO\n"
      ],
      "execution_count": null,
      "outputs": []
    },
    {
      "cell_type": "markdown",
      "metadata": {
        "id": "YzNBRKTa-zY-"
      },
      "source": [
        "## Standard Library\n",
        "Python’s standard library is very extensive, offering a wide range of facilities. The library contains built-in modules (written in C) that provide access to system functionality as well as modules written in Python that provide standardized solutions for many problems that occur in everyday programming. \n",
        "\n",
        "For example, the `math` module gives access to the underlying C library functions for floating point math.\n",
        "\n",
        "[Documentation](https://docs.python.org/3/library/math.html)\n",
        "<br>\n",
        "<br>"
      ]
    },
    {
      "cell_type": "markdown",
      "metadata": {
        "id": "lYjymlKU-zY-"
      },
      "source": [
        "Import math module and calculate $e^4$."
      ]
    },
    {
      "cell_type": "code",
      "metadata": {
        "id": "ZCFKe9pX-zY-"
      },
      "source": [
        "# TODO\n",
        "import math\n",
        "\n",
        "def e(n=4):\n",
        "    return sum(1 / float(math.factorial(i)) for i in range(n))\n"
      ],
      "execution_count": 5,
      "outputs": []
    },
    {
      "cell_type": "markdown",
      "metadata": {
        "id": "5VDiqAXq-zZA"
      },
      "source": [
        "Calculate the value of $log_2(8)$."
      ]
    },
    {
      "cell_type": "code",
      "metadata": {
        "colab": {
          "base_uri": "https://localhost:8080/"
        },
        "id": "CG85OK8z-zZA",
        "outputId": "15f1b380-2d01-4a8f-e353-602df99aae8d"
      },
      "source": [
        "# TODO\n",
        "import math\n",
        "num = 8\n",
        "print(\"Logarithm with base 2 of the value \", num, \" is: \", math.log2(num))\n"
      ],
      "execution_count": 3,
      "outputs": [
        {
          "output_type": "stream",
          "text": [
            "Logarithm with base 2 of the value  8  is:  3.0\n"
          ],
          "name": "stdout"
        }
      ]
    },
    {
      "cell_type": "markdown",
      "metadata": {
        "id": "UJsuH13G-zZA"
      },
      "source": [
        "Calculate the value of $\\sqrt{100}$."
      ]
    },
    {
      "cell_type": "code",
      "metadata": {
        "id": "mu9XmD7k-zZA"
      },
      "source": [
        "# TODO\n",
        "import math\n"
      ],
      "execution_count": null,
      "outputs": []
    },
    {
      "cell_type": "markdown",
      "metadata": {
        "id": "uM8Zlozw-zZA"
      },
      "source": [
        "## List\n",
        "[List Documentation](https://www.w3schools.com/python/python_lists.asp)  "
      ]
    },
    {
      "cell_type": "markdown",
      "metadata": {
        "id": "KOLse272-zZA"
      },
      "source": [
        "### 1. Fill the ___ parts of code below"
      ]
    },
    {
      "cell_type": "code",
      "metadata": {
        "id": "MIX75lRj-zZB"
      },
      "source": [
        "# TODO\n",
        "# Let's create an empty list\n",
        "my_list = []\n",
        "\n",
        "# Let's add some values\n",
        "my_list.insert(1, 'Python')\n",
        "my_list.insert(2, 'is ok')\n",
        "my_list.insert(3, 'sometimes')\n",
        "\n",
        "# Let's remove 'sometimes'\n",
        "my_list.remove('sometimes')\n",
        "\n",
        "# Let's change the second item\n",
        "my_list[1] = 'is neat'"
      ],
      "execution_count": 6,
      "outputs": []
    },
    {
      "cell_type": "code",
      "metadata": {
        "colab": {
          "base_uri": "https://localhost:8080/"
        },
        "id": "QYWkV_zP3xmO",
        "outputId": "c572d78d-eda8-4404-950d-2ed78d70b528"
      },
      "source": [
        "my_list"
      ],
      "execution_count": 7,
      "outputs": [
        {
          "output_type": "execute_result",
          "data": {
            "text/plain": [
              "['Python', 'is neat']"
            ]
          },
          "metadata": {
            "tags": []
          },
          "execution_count": 7
        }
      ]
    },
    {
      "cell_type": "code",
      "metadata": {
        "id": "EOnJqJFY-zZB"
      },
      "source": [
        "# Let's verify that it's correct\n",
        "assert my_list == ['Python', 'is neat']"
      ],
      "execution_count": 8,
      "outputs": []
    },
    {
      "cell_type": "markdown",
      "metadata": {
        "id": "ZrQ80QRA-zZB"
      },
      "source": [
        "### 2. Create a new list without modifying the original one"
      ]
    },
    {
      "cell_type": "code",
      "metadata": {
        "id": "w8AdmP32-zZB"
      },
      "source": [
        "original = ['I', 'am', 'learning', 'hacking', 'in']"
      ],
      "execution_count": null,
      "outputs": []
    },
    {
      "cell_type": "code",
      "metadata": {
        "id": "2sf8OpdS-zZB"
      },
      "source": [
        "# TODO\n"
      ],
      "execution_count": null,
      "outputs": []
    },
    {
      "cell_type": "code",
      "metadata": {
        "id": "6bHp1-mV-zZB"
      },
      "source": [
        "assert original == ['I', 'am', 'learning', 'hacking', 'in']\n",
        "assert modified == ['I', 'am', 'learning', 'lists', 'in', 'Python']"
      ],
      "execution_count": null,
      "outputs": []
    },
    {
      "cell_type": "markdown",
      "metadata": {
        "id": "jUoo1AIt-zZB"
      },
      "source": [
        "### 3. Create a merged sorted list"
      ]
    },
    {
      "cell_type": "code",
      "metadata": {
        "id": "UwhhsNCr-zZB"
      },
      "source": [
        "list1 = [6, 12, 5]\n",
        "list2 = [6.2, 0, 14, 1]\n",
        "list3 = [0.9]"
      ],
      "execution_count": null,
      "outputs": []
    },
    {
      "cell_type": "code",
      "metadata": {
        "id": "EqvFG7cr-zZC"
      },
      "source": [
        "# TODO\n",
        "my_list = "
      ],
      "execution_count": null,
      "outputs": []
    },
    {
      "cell_type": "code",
      "metadata": {
        "id": "CfNWytKr-zZC"
      },
      "source": [
        "print(my_list)\n",
        "assert my_list == [14, 12, 6.2, 6, 5, 1, 0.9, 0]"
      ],
      "execution_count": null,
      "outputs": []
    },
    {
      "cell_type": "markdown",
      "metadata": {
        "id": "_Np6GTmE-zZC"
      },
      "source": [
        "### 4. Loop through a list  \n",
        "[For Loops Documentation](https://www.w3schools.com/python/python_for_loops.asp)  \n",
        "[While Loops Documentation](https://www.w3schools.com/python/python_while_loops.asp)"
      ]
    },
    {
      "cell_type": "markdown",
      "metadata": {
        "id": "9TTcvoJX-zZC"
      },
      "source": [
        "Loop through a list and check:\n",
        "* If an item is a float, cast the float to int.\n",
        "* If an item is an int, cast the int to float\n",
        "* Hint: use isinstance()"
      ]
    },
    {
      "cell_type": "code",
      "metadata": {
        "id": "oIUjxF3f-zZC"
      },
      "source": [
        "loop_list1 = [1101, 704.971, 'Fort Mill']\n",
        "# TODO \n",
        "# use for loop\n"
      ],
      "execution_count": 1,
      "outputs": []
    },
    {
      "cell_type": "code",
      "metadata": {
        "colab": {
          "base_uri": "https://localhost:8080/",
          "height": 201
        },
        "id": "zYtZUm8f-zZC",
        "outputId": "73ed7741-a69f-486f-c6b2-deeb023816aa"
      },
      "source": [
        "print(loop_list1)\n",
        "assert loop_list1 == [1101.0, 704, 'Fort Mill']"
      ],
      "execution_count": 18,
      "outputs": [
        {
          "output_type": "stream",
          "text": [
            "[1101, 704.971, 'Fort Mill']\n"
          ],
          "name": "stdout"
        },
        {
          "output_type": "error",
          "ename": "AssertionError",
          "evalue": "ignored",
          "traceback": [
            "\u001b[0;31m---------------------------------------------------------------------------\u001b[0m",
            "\u001b[0;31mAssertionError\u001b[0m                            Traceback (most recent call last)",
            "\u001b[0;32m<ipython-input-18-2e8798daf423>\u001b[0m in \u001b[0;36m<module>\u001b[0;34m()\u001b[0m\n\u001b[1;32m      1\u001b[0m \u001b[0mprint\u001b[0m\u001b[0;34m(\u001b[0m\u001b[0mloop_list1\u001b[0m\u001b[0;34m)\u001b[0m\u001b[0;34m\u001b[0m\u001b[0;34m\u001b[0m\u001b[0m\n\u001b[0;32m----> 2\u001b[0;31m \u001b[0;32massert\u001b[0m \u001b[0mloop_list1\u001b[0m \u001b[0;34m==\u001b[0m \u001b[0;34m[\u001b[0m\u001b[0;36m1101.0\u001b[0m\u001b[0;34m,\u001b[0m \u001b[0;36m704\u001b[0m\u001b[0;34m,\u001b[0m \u001b[0;34m'Fort Mill'\u001b[0m\u001b[0;34m]\u001b[0m\u001b[0;34m\u001b[0m\u001b[0;34m\u001b[0m\u001b[0m\n\u001b[0m",
            "\u001b[0;31mAssertionError\u001b[0m: "
          ]
        }
      ]
    },
    {
      "cell_type": "code",
      "metadata": {
        "id": "DbCGQrkm-zZC"
      },
      "source": [
        "loop_list2 = [1101, 704.971, 'Fort Mill']\n",
        "# TODO\n",
        "# use while loop\n"
      ],
      "execution_count": null,
      "outputs": []
    },
    {
      "cell_type": "code",
      "metadata": {
        "id": "WHogRRPw-zZC"
      },
      "source": [
        "print(loop_list2)\n",
        "assert loop_list2 == [1101, 704, 'Fort Mill']"
      ],
      "execution_count": null,
      "outputs": []
    },
    {
      "cell_type": "markdown",
      "metadata": {
        "id": "es3bFhXC-zZD"
      },
      "source": [
        "## Tuples\n",
        "[Tuples Documentation](https://www.w3schools.com/python/python_tuples.asp)"
      ]
    },
    {
      "cell_type": "markdown",
      "metadata": {
        "id": "pMGwNqjt-zZD"
      },
      "source": [
        "### 1. Fill the ___ parts of code below"
      ]
    },
    {
      "cell_type": "code",
      "metadata": {
        "id": "dyXKH0Va-zZD"
      },
      "source": [
        "# TODO\n",
        "# create a tuple with items of different data types\n",
        "my_tuple = ___\n",
        "print(my_tuple, type(my_tuple))\n",
        "\n",
        "# Unpack my_tuple in several variables\n",
        "___= my_tuple\n",
        "\n",
        "# convert my_tuple to list and assign to variable my_list\n",
        "my_list = ___(my_tuple)\n",
        "print(my_list, type(my_list))\n",
        "\n",
        "# convert my_list to tuple and assign to variable my_new_tuple\n",
        "my_new_tuple = ___(my_list)\n",
        "print(my_new_tuple, type(my_new_tuple))"
      ],
      "execution_count": null,
      "outputs": []
    },
    {
      "cell_type": "markdown",
      "metadata": {
        "id": "XyxqeqhS-zZD"
      },
      "source": [
        "### 2. Check the immutable property of tuple"
      ]
    },
    {
      "cell_type": "code",
      "metadata": {
        "id": "ShfErfzY-zZD"
      },
      "source": [
        "# TODO\n",
        "rv_tuple = 1101, 'Red', 'Ventures', 'Drive'\n",
        "print(rv_tuple, type(rv_tuple))\n",
        "# check id\n",
        "print(___(rv_tuple))\n",
        "# modify the variable\n",
        "rv_tuple = rv_tuple + (29707, )\n",
        "print(rv_tuple, type(rv_tuple))\n",
        "# check id\n",
        "print(___(rv_tuple))\n",
        "\n",
        "# TODO\n",
        "# Do the same exercises as above for a list and see the difference\n",
        "# Remember list is mutable\n"
      ],
      "execution_count": null,
      "outputs": []
    },
    {
      "cell_type": "markdown",
      "metadata": {
        "id": "tZ5mYGLe-zZD"
      },
      "source": [
        "### 3. Define Functions  \n",
        "\n",
        "[Functions Documentation](https://www.w3schools.com/python/python_functions.asp)\n",
        "\n",
        "Write a function that accepts a string and return the number of uppercase letters and lowercase letters."
      ]
    },
    {
      "cell_type": "code",
      "metadata": {
        "id": "gYZEGucA-zZD"
      },
      "source": [
        "# TODO\n",
        "def check_case():\n",
        "    \n",
        "    return uppercase_number, lowercase_number\n"
      ],
      "execution_count": null,
      "outputs": []
    },
    {
      "cell_type": "code",
      "metadata": {
        "id": "f3eYRJeg-zZE"
      },
      "source": [
        "my_string = \"This is Week3 Python Programming Homework.\"\n",
        "assert check_case(my_string)[0] == 5\n",
        "assert check_case(my_string)[1] == 30"
      ],
      "execution_count": null,
      "outputs": []
    },
    {
      "cell_type": "markdown",
      "metadata": {
        "id": "hAdQEW-g-zZG"
      },
      "source": [
        "## Dictionary\n",
        "[Dictionary Documentation](https://www.w3schools.com/python/python_dictionaries.asp)"
      ]
    },
    {
      "cell_type": "markdown",
      "metadata": {
        "id": "wghCKfy1-zZG"
      },
      "source": [
        "### 1. Fill the ___ parts of code below"
      ]
    },
    {
      "cell_type": "code",
      "metadata": {
        "colab": {
          "base_uri": "https://localhost:8080/",
          "height": 270
        },
        "id": "g2MXTBmj-zZG",
        "outputId": "15f56218-a263-4656-8664-bd0265c6683e"
      },
      "source": [
        "# TODO\n",
        "# create an empty dictionary\n",
        "my_dict = ___\n",
        "print(my_dict, type(my_dict))\n",
        "\n",
        "# create a dictionary with values\n",
        "my_dict = ___\n",
        "print(my_dict, type(my_dict))\n",
        "\n",
        "# add key/value to my_dict\n",
        "my_dict___\n",
        "print(my_dict)\n",
        "\n",
        "# remove the key you added from my_dict\n",
        "my_dict___\n",
        "print(my_dict)"
      ],
      "execution_count": 20,
      "outputs": [
        {
          "output_type": "stream",
          "text": [
            " <class 'str'>\n",
            " <class 'str'>\n"
          ],
          "name": "stdout"
        },
        {
          "output_type": "error",
          "ename": "NameError",
          "evalue": "ignored",
          "traceback": [
            "\u001b[0;31m---------------------------------------------------------------------------\u001b[0m",
            "\u001b[0;31mNameError\u001b[0m                                 Traceback (most recent call last)",
            "\u001b[0;32m<ipython-input-20-05f84c708a9c>\u001b[0m in \u001b[0;36m<module>\u001b[0;34m()\u001b[0m\n\u001b[1;32m      9\u001b[0m \u001b[0;34m\u001b[0m\u001b[0m\n\u001b[1;32m     10\u001b[0m \u001b[0;31m# add key/value to my_dict\u001b[0m\u001b[0;34m\u001b[0m\u001b[0;34m\u001b[0m\u001b[0;34m\u001b[0m\u001b[0m\n\u001b[0;32m---> 11\u001b[0;31m \u001b[0mmy_dict___\u001b[0m\u001b[0;34m\u001b[0m\u001b[0;34m\u001b[0m\u001b[0m\n\u001b[0m\u001b[1;32m     12\u001b[0m \u001b[0mprint\u001b[0m\u001b[0;34m(\u001b[0m\u001b[0mmy_dict\u001b[0m\u001b[0;34m)\u001b[0m\u001b[0;34m\u001b[0m\u001b[0;34m\u001b[0m\u001b[0m\n\u001b[1;32m     13\u001b[0m \u001b[0;34m\u001b[0m\u001b[0m\n",
            "\u001b[0;31mNameError\u001b[0m: name 'my_dict___' is not defined"
          ]
        }
      ]
    },
    {
      "cell_type": "markdown",
      "metadata": {
        "id": "ZegKPels-zZG"
      },
      "source": [
        "### 2. Sort Dictionary\n",
        "\n",
        "Print out key/value pair by the ascending order of keys."
      ]
    },
    {
      "cell_type": "code",
      "metadata": {
        "id": "nLX2kdM5-zZG"
      },
      "source": [
        "# TODO\n",
        "location_dict = {'Charlotte': 'NC', 'Austin': 'TX', 'New York': 'NY', 'Los Angeles': 'CA'}\n"
      ],
      "execution_count": 21,
      "outputs": []
    },
    {
      "cell_type": "markdown",
      "metadata": {
        "id": "ul0vh21Z-zZH"
      },
      "source": [
        "Display the location_dict by the descending order of values."
      ]
    },
    {
      "cell_type": "code",
      "metadata": {
        "id": "dB8h6s0Y-zZH"
      },
      "source": [
        "# TODO\n",
        "location_dict = {'Charlotte': 'NC', 'Austin': 'TX', 'New York': 'NY', 'Los Angeles': 'CA'}\n"
      ],
      "execution_count": 22,
      "outputs": []
    },
    {
      "cell_type": "markdown",
      "metadata": {
        "id": "S9oRZXQf-zZH"
      },
      "source": [
        "## Set"
      ]
    },
    {
      "cell_type": "markdown",
      "metadata": {
        "id": "A7pfCK2h-zZL"
      },
      "source": [
        "Though `set` is not covered in the video materials, it is also one of the major data structures in Python.\n",
        "\n",
        "[Set Documentation](https://www.w3schools.com/python/python_sets.asp)"
      ]
    },
    {
      "cell_type": "markdown",
      "metadata": {
        "id": "lgf5Ijgt-zZN"
      },
      "source": [
        "### 1. Fill the ____ parts of code below"
      ]
    },
    {
      "cell_type": "code",
      "metadata": {
        "id": "U6picDvG-zZN"
      },
      "source": [
        "# TODO\n",
        "# create an set\n",
        "my_set = ____\n",
        "print(my_set, type(my_set), '\\n')\n",
        "\n",
        "# create a set with values\n",
        "my_set = ____\n",
        "print(my_set, type(my_set), '\\n')\n",
        "\n",
        "# add a new value to my_set\n",
        "# the value should be a different\n",
        "my_set.___\n",
        "print(my_set, '\\n')\n",
        "\n",
        "\n",
        "# remove the value you added from my_set\n",
        "my_set.____\n",
        "print(my_set, '\\n')"
      ],
      "execution_count": null,
      "outputs": []
    },
    {
      "cell_type": "markdown",
      "metadata": {
        "id": "Nga6HiaX-zZQ"
      },
      "source": [
        "### 2. Set Manipulation"
      ]
    },
    {
      "cell_type": "markdown",
      "metadata": {
        "id": "vJMLTZkf-zZQ"
      },
      "source": [
        "Use a list  with duplicated values and a tuple to create two sets respectively, and get a union set between those two."
      ]
    },
    {
      "cell_type": "code",
      "metadata": {
        "id": "TeMwJAhe-zZR"
      },
      "source": [
        "# TODO\n"
      ],
      "execution_count": null,
      "outputs": []
    },
    {
      "cell_type": "markdown",
      "metadata": {
        "id": "5OJKpIWU-zZR"
      },
      "source": [
        "Create two sets `my_set1` and `my_set2`, and get values in `my_set1` but not in `my_set2`."
      ]
    },
    {
      "cell_type": "code",
      "metadata": {
        "id": "45FVyY7d-zZR"
      },
      "source": [
        "# TODO\n"
      ],
      "execution_count": null,
      "outputs": []
    },
    {
      "cell_type": "markdown",
      "metadata": {
        "id": "SwEM4zAR-zZR"
      },
      "source": [
        "## DataFrames"
      ]
    },
    {
      "cell_type": "markdown",
      "metadata": {
        "id": "605Wjama-zZR"
      },
      "source": [
        "[Dataframe Documentation](https://pandas.pydata.org/pandas-docs/stable/reference/api/pandas.DataFrame.html)"
      ]
    },
    {
      "cell_type": "code",
      "metadata": {
        "id": "XoQhzLNY-zZR"
      },
      "source": [
        "import pandas as pd\n",
        "url = 'https://archive.ics.uci.edu/ml/machine-learning-databases/wine-quality/winequality-red.csv'\n",
        "\n",
        "# Download the CSV from the above url.\n",
        "# This csv is separated by a ';' so we need to add that as a parameter to the read_csv method.\n",
        "df = pd.read_csv(url, sep=';')"
      ],
      "execution_count": null,
      "outputs": []
    },
    {
      "cell_type": "markdown",
      "metadata": {
        "id": "rizWJJeK-zZR"
      },
      "source": [
        "Show the first 6 rows of the `df` dataframe"
      ]
    },
    {
      "cell_type": "code",
      "metadata": {
        "id": "qGWl6TbA-zZR"
      },
      "source": [
        "# TODO\n"
      ],
      "execution_count": null,
      "outputs": []
    },
    {
      "cell_type": "markdown",
      "metadata": {
        "id": "-_o5nCEQ-zZR"
      },
      "source": [
        "Print out the summary statistics for each dataframe column"
      ]
    },
    {
      "cell_type": "code",
      "metadata": {
        "id": "zmZulgS5-zZS"
      },
      "source": [
        "# TODO\n"
      ],
      "execution_count": null,
      "outputs": []
    },
    {
      "cell_type": "markdown",
      "metadata": {
        "id": "GgCBlBec-zZS"
      },
      "source": [
        "## Submission\n",
        "\n",
        "Download completed **Week2_Python_Homework.ipynb** from Google Colab and commit to your personal Github repo you shared with the faculty."
      ]
    }
  ]
}